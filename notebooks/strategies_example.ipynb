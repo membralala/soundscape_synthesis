{
 "cells": [
  {
   "cell_type": "code",
   "execution_count": 1,
   "metadata": {},
   "outputs": [
    {
     "name": "stderr",
     "output_type": "stream",
     "text": [
      "/home/philip.popien/anaconda3/lib/python3.9/site-packages/pandas/core/computation/expressions.py:21: UserWarning: Pandas requires version '2.8.4' or newer of 'numexpr' (version '2.8.1' currently installed).\n",
      "  from pandas.core.computation.check import NUMEXPR_INSTALLED\n",
      "/home/philip.popien/anaconda3/lib/python3.9/site-packages/pandas/core/arrays/masked.py:60: UserWarning: Pandas requires version '1.3.6' or newer of 'bottleneck' (version '1.3.4' currently installed).\n",
      "  from pandas.core import (\n"
     ]
    }
   ],
   "source": [
    "# Add the src directory to your path to import its modules\n",
    "import os\n",
    "import sys\n",
    "module_path = os.path.abspath(os.path.join(\"../src\"))\n",
    "if module_path not in sys.path:\n",
    "    sys.path.append(module_path)\n",
    "    \n",
    "# Load local modules from src\n",
    "from actions import pollute, reconstruct, evaluate, get_data_path, get_models_path\n",
    "from strategies.pollutions.depth_reduce import VirtualDepthReduceStrategy\n",
    "from strategies.pollutions.samplerate_reduce import VirtualSamplerateReduceStrategy\n",
    "from strategies.reconstructions.rave import RaveSimpleReconstructStrategy\n",
    "\n",
    "# Load other modules\n",
    "import torch"
   ]
  },
  {
   "cell_type": "code",
   "execution_count": 2,
   "metadata": {},
   "outputs": [],
   "source": [
    "# Load default data and model paths (defined in config.yaml)\n",
    "DATA_PATH = get_data_path()\n",
    "MODELS_PATH = get_models_path()"
   ]
  },
  {
   "cell_type": "code",
   "execution_count": 3,
   "metadata": {},
   "outputs": [],
   "source": [
    "# Create polluted dataset with virtual depth reduction to 12 bit depth\n",
    "depth_reduce_strategy = VirtualDepthReduceStrategy(depth=12)\n",
    "pollute(\n",
    "    depth_reduce_strategy,\n",
    "    DATA_PATH / \"SALVE001/test\", \n",
    "    DATA_PATH / \"SALVE001/pollute/0001\"\n",
    ")"
   ]
  },
  {
   "cell_type": "code",
   "execution_count": null,
   "metadata": {},
   "outputs": [],
   "source": [
    "# Create a reconstructed dataset with RAVE\n",
    "model_path = MODELS_PATH / \"rave/salve1/exports/salve1_f99.ts\"\n",
    "\n",
    "# Load pretrained model\n",
    "torch.set_grad_enabled(False)\n",
    "model = torch.jit.load(model_path).eval().double()\n",
    "\n",
    "rave_reconstruct_strategy = RaveSimpleReconstructStrategy(model_path, model)\n",
    "reconstruct(rave_reconstruct_strategy, DATA_PATH / \"SALVE001/pollute/0001\", DATA_PATH / \"SALVE001/reconstruct/0001\")"
   ]
  },
  {
   "cell_type": "code",
   "execution_count": null,
   "metadata": {},
   "outputs": [],
   "source": []
  }
 ],
 "metadata": {
  "kernelspec": {
   "display_name": "base",
   "language": "python",
   "name": "python3"
  },
  "language_info": {
   "codemirror_mode": {
    "name": "ipython",
    "version": 3
   },
   "file_extension": ".py",
   "mimetype": "text/x-python",
   "name": "python",
   "nbconvert_exporter": "python",
   "pygments_lexer": "ipython3",
   "version": "3.9.12"
  }
 },
 "nbformat": 4,
 "nbformat_minor": 2
}
